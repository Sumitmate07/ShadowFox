{
 "cells": [
  {
   "cell_type": "markdown",
   "id": "1cbd46aa",
   "metadata": {},
   "source": [
    "# AI-Driven NLP: Language Model Exploration"
   ]
  },
  {
   "cell_type": "markdown",
   "id": "87aa8c71",
   "metadata": {},
   "source": [
    "## Research Questions & Objectives\n",
    "- How well does GPT-2 understand contextual prompts?\n",
    "- Can GPT-2 generate coherent and creative responses?\n",
    "- What are the limitations of GPT-2 in handling ambiguous inputs?\n"
   ]
  },
  {
   "cell_type": "markdown",
   "id": "bc5a69a4",
   "metadata": {},
   "source": [
    "## Implementation of GPT-2"
   ]
  },
  {
   "cell_type": "code",
   "execution_count": 8,
   "id": "315a735d",
   "metadata": {},
   "outputs": [
    {
     "name": "stderr",
     "output_type": "stream",
     "text": [
      "C:\\Users\\DELL\\AppData\\Local\\Packages\\PythonSoftwareFoundation.Python.3.11_qbz5n2kfra8p0\\LocalCache\\local-packages\\Python311\\site-packages\\tqdm\\auto.py:21: TqdmWarning: IProgress not found. Please update jupyter and ipywidgets. See https://ipywidgets.readthedocs.io/en/stable/user_install.html\n",
      "  from .autonotebook import tqdm as notebook_tqdm\n"
     ]
    }
   ],
   "source": [
    "from transformers import GPT2LMHeadModel, GPT2Tokenizer\n",
    "import torch    \n",
    "\n",
    "# Load GPT-2 model and tokenizer\n",
    "model_name = 'gpt2'\n",
    "tokenizer = GPT2Tokenizer.from_pretrained(model_name)\n",
    "model = GPT2LMHeadModel.from_pretrained(model_name)\n"
   ]
  },
  {
   "cell_type": "markdown",
   "id": "434ca0e9",
   "metadata": {},
   "source": [
    "## Exploration & Analysis\n",
    "We will analyze GPT-2 by providing different prompts and evaluating its responses."
   ]
  },
  {
   "cell_type": "code",
   "execution_count": 6,
   "id": "2f8ef27b",
   "metadata": {},
   "outputs": [
    {
     "ename": "NameError",
     "evalue": "name 'tokenizer' is not defined",
     "output_type": "error",
     "traceback": [
      "\u001b[31m---------------------------------------------------------------------------\u001b[39m",
      "\u001b[31mNameError\u001b[39m                                 Traceback (most recent call last)",
      "\u001b[36mCell\u001b[39m\u001b[36m \u001b[39m\u001b[32mIn[6]\u001b[39m\u001b[32m, line 8\u001b[39m\n\u001b[32m      1\u001b[39m sample_prompts = [\n\u001b[32m      2\u001b[39m     \u001b[33m\"\u001b[39m\u001b[33mOnce upon a time in a futuristic city, there was a robot who\u001b[39m\u001b[33m\"\u001b[39m,\n\u001b[32m      3\u001b[39m     \u001b[33m\"\u001b[39m\u001b[33mThe key difference between classical physics and quantum mechanics is\u001b[39m\u001b[33m\"\u001b[39m,\n\u001b[32m      4\u001b[39m     \u001b[33m\"\u001b[39m\u001b[33mA fascinating fact about black holes is that\u001b[39m\u001b[33m\"\u001b[39m\n\u001b[32m      5\u001b[39m ]\n\u001b[32m      7\u001b[39m \u001b[38;5;28;01mfor\u001b[39;00m prompt \u001b[38;5;129;01min\u001b[39;00m sample_prompts:\n\u001b[32m----> \u001b[39m\u001b[32m8\u001b[39m     inputs = \u001b[43mtokenizer\u001b[49m(prompt, return_tensors=\u001b[33m'\u001b[39m\u001b[33mpt\u001b[39m\u001b[33m'\u001b[39m)\n\u001b[32m      9\u001b[39m     output = model.generate(**inputs, max_length=\u001b[32m50\u001b[39m)\n\u001b[32m     10\u001b[39m     generated_text = tokenizer.decode(output[\u001b[32m0\u001b[39m], skip_special_tokens=\u001b[38;5;28;01mTrue\u001b[39;00m)\n",
      "\u001b[31mNameError\u001b[39m: name 'tokenizer' is not defined"
     ]
    }
   ],
   "source": [
    "sample_prompts = [\n",
    "    \"Once upon a time in a futuristic city, there was a robot who\",\n",
    "    \"The key difference between classical physics and quantum mechanics is\",\n",
    "    \"A fascinating fact about black holes is that\"\n",
    "]\n",
    "\n",
    "for prompt in sample_prompts:\n",
    "    inputs = tokenizer(prompt, return_tensors='pt')\n",
    "    output = model.generate(**inputs, max_length=50)\n",
    "    generated_text = tokenizer.decode(output[0], skip_special_tokens=True)\n",
    "    \n",
    "    # Print only the prompt and generated text without unnecessary messages\n",
    "    print(f'Prompt: {prompt}\\nGenerated: {generated_text}\\n')\n"
   ]
  },
  {
   "cell_type": "markdown",
   "id": "7a52fcd7",
   "metadata": {},
   "source": [
    "## Visualization of Results\n",
    "To evaluate GPT-2's output, we compute BLEU and ROUGE scores."
   ]
  },
  {
   "cell_type": "code",
   "execution_count": 4,
   "id": "eedd4f86",
   "metadata": {},
   "outputs": [
    {
     "ename": "ModuleNotFoundError",
     "evalue": "No module named 'rouge_score'",
     "output_type": "error",
     "traceback": [
      "\u001b[31m---------------------------------------------------------------------------\u001b[39m",
      "\u001b[31mModuleNotFoundError\u001b[39m                       Traceback (most recent call last)",
      "\u001b[36mCell\u001b[39m\u001b[36m \u001b[39m\u001b[32mIn[4]\u001b[39m\u001b[32m, line 2\u001b[39m\n\u001b[32m      1\u001b[39m \u001b[38;5;28;01mfrom\u001b[39;00m\u001b[38;5;250m \u001b[39m\u001b[34;01mnltk\u001b[39;00m\u001b[34;01m.\u001b[39;00m\u001b[34;01mtranslate\u001b[39;00m\u001b[34;01m.\u001b[39;00m\u001b[34;01mbleu_score\u001b[39;00m\u001b[38;5;250m \u001b[39m\u001b[38;5;28;01mimport\u001b[39;00m sentence_bleu\n\u001b[32m----> \u001b[39m\u001b[32m2\u001b[39m \u001b[38;5;28;01mfrom\u001b[39;00m\u001b[38;5;250m \u001b[39m\u001b[34;01mrouge_score\u001b[39;00m\u001b[38;5;250m \u001b[39m\u001b[38;5;28;01mimport\u001b[39;00m rouge_scorer\n\u001b[32m      3\u001b[39m \u001b[38;5;28;01mimport\u001b[39;00m\u001b[38;5;250m \u001b[39m\u001b[34;01mwarnings\u001b[39;00m\n\u001b[32m      4\u001b[39m warnings.filterwarnings(\u001b[33m\"\u001b[39m\u001b[33mignore\u001b[39m\u001b[33m\"\u001b[39m)\n",
      "\u001b[31mModuleNotFoundError\u001b[39m: No module named 'rouge_score'"
     ]
    }
   ],
   "source": [
    "from nltk.translate.bleu_score import sentence_bleu\n",
    "from rouge_score import rouge_scorer\n",
    "import warnings\n",
    "warnings.filterwarnings(\"ignore\")\n",
    "\n",
    "reference = \"Once upon a time in a futuristic city, there was a robot who helped humans.\"\n",
    "generated_text = tokenizer.decode(output[0], skip_special_tokens=True)\n",
    "\n",
    "bleu_score = sentence_bleu([reference.split()], generated_text.split())\n",
    "scorer = rouge_scorer.RougeScorer(['rouge1', 'rougeL'], use_stemmer=True)\n",
    "rouge_scores = scorer.score(reference, generated_text)\n",
    "\n",
    "print(f'BLEU Score: {bleu_score}')\n",
    "print(f'ROUGE Scores: {rouge_scores}')\n"
   ]
  },
  {
   "cell_type": "code",
   "execution_count": null,
   "id": "014c6dbe",
   "metadata": {},
   "outputs": [],
   "source": []
  },
  {
   "cell_type": "code",
   "execution_count": null,
   "id": "ce3882df",
   "metadata": {},
   "outputs": [],
   "source": [
    "generated_text = tokenizer.decode(output[0"
   ]
  },
  {
   "cell_type": "markdown",
   "id": "0178057f",
   "metadata": {},
   "source": [
    "## Conclusion & Insights\n",
    "- GPT-2 generates fluent text but may struggle with long-range coherence.\n",
    "- Context understanding depends on the prompt structure.\n",
    "- Further fine-tuning could improve performance in specific domains.\n"
   ]
  }
 ],
 "metadata": {
  "kernelspec": {
   "display_name": "Python 3",
   "language": "python",
   "name": "python3"
  },
  "language_info": {
   "codemirror_mode": {
    "name": "ipython",
    "version": 3
   },
   "file_extension": ".py",
   "mimetype": "text/x-python",
   "name": "python",
   "nbconvert_exporter": "python",
   "pygments_lexer": "ipython3",
   "version": "3.11.9"
  }
 },
 "nbformat": 4,
 "nbformat_minor": 5
}
